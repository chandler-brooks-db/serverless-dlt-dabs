{
 "cells": [
  {
   "cell_type": "code",
   "execution_count": null,
   "id": "ce29e639",
   "metadata": {
    "vscode": {
     "languageId": "plaintext"
    }
   },
   "outputs": [],
   "source": [
    "%pip install --no-index \"/Volumes/cb_demos/dlt/wheels/brassica-1.0.2-py3-none-any.whl\""
   ]
  },
  {
   "cell_type": "code",
   "execution_count": null,
   "id": "aaf7c133",
   "metadata": {
    "vscode": {
     "languageId": "plaintext"
    }
   },
   "outputs": [],
   "source": [
    "import dlt\n",
    "from cryptography.fernet import Fernet\n",
    "import random\n",
    "import pyspark.sql.functions as F\n",
    "import brassica"
   ]
  },
  {
   "cell_type": "code",
   "execution_count": null,
   "id": "55821eb4",
   "metadata": {
    "vscode": {
     "languageId": "plaintext"
    }
   },
   "outputs": [],
   "source": [
    "@dlt.table(name = \"sample_trips_bronze\")\n",
    "def sample_trips_bronze():\n",
    "    key = Fernet.generate_key()\n",
    "    f = Fernet(key)\n",
    "    token = str(f.encrypt(b\"Guaranteed uniqueness of each deploy/refresh\"))\n",
    "    token = \"\".join(random.choices(token, k=16))\n",
    "    return (\n",
    "        spark.read.table(\"samples.nyctaxi.trips\")\n",
    "             .withColumn(\"batch_id\", F.lit(token))\n",
    "    )"
   ]
  },
  {
   "cell_type": "code",
   "execution_count": null,
   "id": "a246189f",
   "metadata": {
    "vscode": {
     "languageId": "plaintext"
    }
   },
   "outputs": [],
   "source": [
    "@dlt.table(name = \"sample_trips_silver\")\n",
    "def sample_trips_silver():\n",
    "    col_order = [\"batch_id\",\n",
    "                 \"pickup_date\",\n",
    "                 \"dropoff_date\",\n",
    "                 \"trip_distance_mi\",\n",
    "                 \"trip_distance_km\",\n",
    "                 \"fare_amount\",\n",
    "                 \"pickup_zip\",\n",
    "                 \"dropoff_zip\"]\n",
    "    \n",
    "    return (\n",
    "        dlt.read(\"sample_trips_bronze\")\n",
    "             .withColumn(\"pickup_date\", F.to_date(F.col(\"tpep_pickup_datetime\")))\n",
    "             .withColumn(\"dropoff_date\", F.to_date(F.col(\"tpep_dropoff_datetime\")))\n",
    "             .withColumn(\"trip_distance_km\", F.round(F.col(\"trip_distance\") * 1.60934, 2))\n",
    "             .withColumnRenamed(\"trip_distance\", \"trip_distance_mi\")\n",
    "             .select(col_order)\n",
    "    )"
   ]
  }
 ],
 "metadata": {
  "language_info": {
   "name": "python"
  }
 },
 "nbformat": 4,
 "nbformat_minor": 5
}
